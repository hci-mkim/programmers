{
 "cells": [
  {
   "cell_type": "markdown",
   "metadata": {},
   "source": [
    "## 1. 해시"
   ]
  },
  {
   "cell_type": "markdown",
   "metadata": {},
   "source": [
    "### 1.1 완주하지 못한 선수"
   ]
  },
  {
   "cell_type": "code",
   "execution_count": 15,
   "metadata": {},
   "outputs": [],
   "source": [
    "import collections \n",
    "def solution(participant, completion):\n",
    "    participant.sort()\n",
    "    completion.sort() \n",
    "    result = collections.Counter(participant) - collections.Counter(completion) \n",
    "    \n",
    "    return list(result)[0]\n"
   ]
  },
  {
   "cell_type": "code",
   "execution_count": 18,
   "metadata": {},
   "outputs": [
    {
     "name": "stdout",
     "output_type": "stream",
     "text": [
      "vinko\n"
     ]
    }
   ],
   "source": [
    "p = [\"marina\", \"josipa\", \"nikola\", \"vinko\", \"filipa\"]\n",
    "c = [\"josipa\", \"filipa\", \"marina\", \"nikola\"]\n",
    "\n",
    "print(solution(p,c))"
   ]
  },
  {
   "cell_type": "markdown",
   "metadata": {},
   "source": [
    "### 1.2 전화번호부"
   ]
  },
  {
   "cell_type": "code",
   "execution_count": 34,
   "metadata": {},
   "outputs": [
    {
     "name": "stdout",
     "output_type": "stream",
     "text": [
      "False\n"
     ]
    }
   ],
   "source": [
    "phone_book = [\"12\",\"123\",\"1235\",\"567\",\"88\"]\n",
    "\n",
    "phone_book.sort()\n",
    "\n",
    "for i in range(len(phone_book)-1):\n",
    "    if phone_book[i] in phone_book[i+1]:\n",
    "        print(\"False\")\n",
    "        break\n",
    "    else:\n",
    "        print(\"True\")\n",
    "\n",
    "    "
   ]
  },
  {
   "cell_type": "markdown",
   "metadata": {},
   "source": [
    "### 1.3 위장"
   ]
  },
  {
   "cell_type": "code",
   "execution_count": 216,
   "metadata": {},
   "outputs": [],
   "source": [
    "import collections\n",
    "\n",
    "def solution(clothes):\n",
    "    answer = 1\n",
    "    kind = []\n",
    "    \n",
    "    for a, b in clothes:\n",
    "        kind.append(b)\n",
    "        \n",
    "    kind = collections.Counter(kind)\n",
    "    \n",
    "    for i in kind.values():\n",
    "    \tanswer = answer * (i + 1)\n",
    "    \n",
    "    return answer - 1\n",
    "\n"
   ]
  },
  {
   "cell_type": "code",
   "execution_count": 217,
   "metadata": {},
   "outputs": [
    {
     "data": {
      "text/plain": [
       "5"
      ]
     },
     "execution_count": 217,
     "metadata": {},
     "output_type": "execute_result"
    }
   ],
   "source": [
    "clothes = [[\"yellow_hat\", \"headgear\"], [\"blue_sunglasses\", \"eyewear\"], [\"green_turban\", \"headgear\"]]\n",
    "solution(clothes)"
   ]
  },
  {
   "cell_type": "code",
   "execution_count": null,
   "metadata": {},
   "outputs": [],
   "source": []
  }
 ],
 "metadata": {
  "kernelspec": {
   "display_name": "Python 3",
   "language": "python",
   "name": "python3"
  },
  "language_info": {
   "codemirror_mode": {
    "name": "ipython",
    "version": 3
   },
   "file_extension": ".py",
   "mimetype": "text/x-python",
   "name": "python",
   "nbconvert_exporter": "python",
   "pygments_lexer": "ipython3",
   "version": "3.7.0"
  }
 },
 "nbformat": 4,
 "nbformat_minor": 4
}
